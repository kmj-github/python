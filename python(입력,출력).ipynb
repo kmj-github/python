{
 "cells": [
  {
   "cell_type": "markdown",
   "id": "fb4d0f89",
   "metadata": {},
   "source": [
    "두 수를 입력받은 후 덧셈 결과 출력하기\n"
   ]
  },
  {
   "cell_type": "code",
   "execution_count": 1,
   "id": "83af6e98",
   "metadata": {},
   "outputs": [
    {
     "name": "stdout",
     "output_type": "stream",
     "text": [
      "숫자1 입력: 58\n",
      "숫자2 입력: 54\n",
      "덧셈 결과: 112\n"
     ]
    }
   ],
   "source": [
    "input1 = input('숫자1 입력: ')\n",
    "input2 = input('숫자2 입력: ')\n",
    "\n",
    "result=int(input1)+int(input2)\n",
    "print('덧셈 결과:', result)"
   ]
  },
  {
   "cell_type": "markdown",
   "id": "d44bfd32",
   "metadata": {},
   "source": [
    "아래와 같이 숫자들을 입력한 후 입력된 숫자들의 합 구하기\n",
    "\n",
    "23, 24, 1, 9, 11, 26\n"
   ]
  },
  {
   "cell_type": "code",
   "execution_count": 36,
   "id": "bd8baeec",
   "metadata": {
    "collapsed": true
   },
   "outputs": [
    {
     "name": "stdout",
     "output_type": "stream",
     "text": [
      "입력: 1,2,3,4,5\n",
      "합계: 15\n"
     ]
    }
   ],
   "source": [
    "text = input('입력: ')\n",
    "total = 0\n",
    "num_list=text.split(',')\n",
    "for num in num_list:\n",
    "    total+=int(num)\n",
    "\n",
    "print('합계:', total)"
   ]
  },
  {
   "cell_type": "markdown",
   "id": "bb3a8bfe",
   "metadata": {},
   "source": [
    "별 그리기"
   ]
  },
  {
   "cell_type": "code",
   "execution_count": 44,
   "id": "3613d1ff",
   "metadata": {},
   "outputs": [
    {
     "name": "stdout",
     "output_type": "stream",
     "text": [
      "*\n",
      "**\n",
      "***\n",
      "****\n",
      "*****\n"
     ]
    }
   ],
   "source": [
    "for a in range(5):\n",
    "    for b in range(a+1):\n",
    "        print('*',end='')\n",
    "    print('')\n",
    "        "
   ]
  },
  {
   "cell_type": "code",
   "execution_count": 50,
   "id": "e2f31027",
   "metadata": {},
   "outputs": [
    {
     "name": "stdout",
     "output_type": "stream",
     "text": [
      "*****\n",
      "****\n",
      "***\n",
      "**\n",
      "*\n"
     ]
    }
   ],
   "source": [
    "for a in range(5,0,-1):\n",
    "    for b in range(a):\n",
    "        print('*',end='')\n",
    "    print('')"
   ]
  }
 ],
 "metadata": {
  "kernelspec": {
   "display_name": "Python 3 (ipykernel)",
   "language": "python",
   "name": "python3"
  },
  "language_info": {
   "codemirror_mode": {
    "name": "ipython",
    "version": 3
   },
   "file_extension": ".py",
   "mimetype": "text/x-python",
   "name": "python",
   "nbconvert_exporter": "python",
   "pygments_lexer": "ipython3",
   "version": "3.9.13"
  }
 },
 "nbformat": 4,
 "nbformat_minor": 5
}
