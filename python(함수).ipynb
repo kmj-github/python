{
 "cells": [
  {
   "cell_type": "markdown",
   "id": "50e64060",
   "metadata": {},
   "source": [
    " 하나의 숫자를 입력받아 홀인지 짝인지 판단하는 함수 작성\n"
   ]
  },
  {
   "cell_type": "code",
   "execution_count": 10,
   "id": "35187edc",
   "metadata": {
    "collapsed": true
   },
   "outputs": [
    {
     "name": "stdout",
     "output_type": "stream",
     "text": [
      "홀수\n",
      "3\n",
      "짝수\n",
      "4\n"
     ]
    }
   ],
   "source": [
    "def is_odd(x):\n",
    "    if x%2 == 0:\n",
    "        print('짝수')\n",
    "    else:\n",
    "        print('홀수')\n",
    "    return x\n",
    "    \n",
    "print(is_odd(3))\n",
    "print(is_odd(4))"
   ]
  },
  {
   "cell_type": "markdown",
   "id": "b1c28aea",
   "metadata": {},
   "source": [
    "1 이상의 정수 N을 입력받은 후 1 ~ N 까지의 합을 구하는 함수 작성"
   ]
  },
  {
   "cell_type": "code",
   "execution_count": 13,
   "id": "8c0be3d5",
   "metadata": {},
   "outputs": [
    {
     "name": "stdout",
     "output_type": "stream",
     "text": [
      "55.0\n"
     ]
    }
   ],
   "source": [
    "def total(x):\n",
    "    return x*(x+1)/2\n",
    "\n",
    "print(total(10))"
   ]
  },
  {
   "cell_type": "markdown",
   "id": "c98c4e0c",
   "metadata": {},
   "source": [
    "숫자 요소를 가지는 리스트를 입력받은 후 합과 평균을 구하고 튜플 형태로\n",
    "반환하는 함수 작성"
   ]
  },
  {
   "cell_type": "code",
   "execution_count": 23,
   "id": "037a8be4",
   "metadata": {},
   "outputs": [
    {
     "name": "stdout",
     "output_type": "stream",
     "text": [
      "(30, 7.5)\n"
     ]
    }
   ],
   "source": [
    "def calculator(x):\n",
    "    average=sum(x)/len(x)\n",
    "    return sum(x),average\n",
    "print(calculator([3, 7, 9, 11]))\n"
   ]
  },
  {
   "cell_type": "markdown",
   "id": "0729f4bc",
   "metadata": {},
   "source": [
    "아래와 같은 수열이 있을 때 N번째 수열의 값을 구하는 함수 작성\n",
    "1\n",
    "1+(1+2)\n",
    "1+(1+2)+(1+2+3)\n",
    "1+(1+2)+(1+2+3)+(1+2+3+4)\n",
    "⋮\n",
    "1+(1+2)+(1+2+3)+(1+2+3+4)+...+(1+...+n)\n",
    "\n"
   ]
  },
  {
   "cell_type": "code",
   "execution_count": null,
   "id": "b0a04788",
   "metadata": {},
   "outputs": [],
   "source": [
    "?????"
   ]
  },
  {
   "cell_type": "markdown",
   "id": "6230998b",
   "metadata": {},
   "source": [
    "문자열의 가운데 글자를 반환하는 함수 작성\n",
    "조건 1) functions와 같은 홀수 길이가 입력되면 가운데 한 글자 반환 → t\n",
    "조건 2) python과 같은 짝수 길"
   ]
  },
  {
   "cell_type": "code",
   "execution_count": 32,
   "id": "d0427b02",
   "metadata": {},
   "outputs": [
    {
     "name": "stdout",
     "output_type": "stream",
     "text": [
      "ut\n",
      "th\n"
     ]
    }
   ],
   "source": [
    "def func(x):\n",
    "    if len(x)%2==0:\n",
    "        num=x[len(x)//2-1]+x[len(x)//2]\n",
    "    else:\n",
    "        num=x[len(x)//2]\n",
    "    return num\n",
    "print(func('funcutions'))\n",
    "print(func('python'))"
   ]
  },
  {
   "cell_type": "markdown",
   "id": "5d4d3f69",
   "metadata": {},
   "source": [
    "길이가 N이고, 수박수박수박수...와 같은 패턴을 반환하는 함수 작성"
   ]
  },
  {
   "cell_type": "code",
   "execution_count": 36,
   "id": "d04a76e3",
   "metadata": {},
   "outputs": [
    {
     "name": "stdout",
     "output_type": "stream",
     "text": [
      "수박수\n",
      "수박수박\n",
      "수박수박수박수\n",
      "수박수박수박수박수박수\n"
     ]
    }
   ],
   "source": [
    "def func(x):\n",
    "    if x%2 == 0:\n",
    "        pattern = x//2*'수박'\n",
    "    else:\n",
    "        pattern = x//2*'수박'+'수'\n",
    "    return pattern\n",
    "print(func(3))\n",
    "print(func(4))\n",
    "print(func(7))\n",
    "print(func(11))"
   ]
  },
  {
   "cell_type": "markdown",
   "id": "e8223463",
   "metadata": {},
   "source": [
    "자연수 N이 주어지면 N의 각 자리 수 합을 구하는 함수 작성\n"
   ]
  },
  {
   "cell_type": "code",
   "execution_count": 43,
   "id": "ca341021",
   "metadata": {},
   "outputs": [
    {
     "name": "stdout",
     "output_type": "stream",
     "text": [
      "10\n",
      "23\n"
     ]
    }
   ],
   "source": [
    "def func(x):\n",
    "    total=0\n",
    "    for a in str(x):\n",
    "        total= total+int(a)\n",
    "    return total\n",
    "print(func(1234))\n",
    "print(func(54536))"
   ]
  },
  {
   "cell_type": "markdown",
   "id": "34e767c0",
   "metadata": {},
   "source": [
    "아래의 함수를 lambda와 List Comprehension을 사용하는 함수로 작성\n"
   ]
  },
  {
   "cell_type": "code",
   "execution_count": 47,
   "id": "ff9a518c",
   "metadata": {
    "scrolled": true
   },
   "outputs": [
    {
     "name": "stdout",
     "output_type": "stream",
     "text": [
      "[6, 7, 8]\n"
     ]
    }
   ],
   "source": [
    "def myfunc(numbers):\n",
    "    result = []\n",
    "    for number in numbers:\n",
    "        if number > 5:\n",
    "            result.append(number)\n",
    "    return result\n",
    "result = myfunc([2, 3, 4, 5, 6, 7, 8])\n",
    "print(result)"
   ]
  }
 ],
 "metadata": {
  "kernelspec": {
   "display_name": "Python 3 (ipykernel)",
   "language": "python",
   "name": "python3"
  },
  "language_info": {
   "codemirror_mode": {
    "name": "ipython",
    "version": 3
   },
   "file_extension": ".py",
   "mimetype": "text/x-python",
   "name": "python",
   "nbconvert_exporter": "python",
   "pygments_lexer": "ipython3",
   "version": "3.9.13"
  }
 },
 "nbformat": 4,
 "nbformat_minor": 5
}
