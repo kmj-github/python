{
 "cells": [
  {
   "cell_type": "markdown",
   "id": "c26b40a9",
   "metadata": {},
   "source": [
    "주어진 숫자가 홀수인지 짝수인지 확인할 수 있는 조건문 작성하기"
   ]
  },
  {
   "cell_type": "code",
   "execution_count": null,
   "id": "9bd88817",
   "metadata": {},
   "outputs": [],
   "source": [
    "num=122\n",
    "if num%2==0:\n",
    "    print('짝수입니다')\n",
    "else:\n",
    "    print('홀수입니다')"
   ]
  },
  {
   "cell_type": "markdown",
   "id": "d720c6af",
   "metadata": {},
   "source": [
    " Dictionary로 구성된 이수 과목 데이터 중 '자료구조'가 있는지 확인하여\n",
    "'자료구조'의 점수가 60점 이상이면 '이수 완료'를 출력하고 조건이 맞지 않으면\n",
    "'재수강'을 출력하는 코드 작성\n"
   ]
  },
  {
   "cell_type": "code",
   "execution_count": null,
   "id": "b77b3c15",
   "metadata": {},
   "outputs": [],
   "source": [
    "subject = { '자료구조': 80, '알고리즘': 60, '네트워크': 90 }\n",
    "if subject['자료구조']>=60:\n",
    "    print('이수완료')\n",
    "else:\n",
    "    print('재수강')"
   ]
  },
  {
   "cell_type": "markdown",
   "id": "d55693da",
   "metadata": {},
   "source": [
    "1부터 1000 까지의 정수 합 구하기\n"
   ]
  },
  {
   "cell_type": "code",
   "execution_count": null,
   "id": "4f2fd416",
   "metadata": {},
   "outputs": [],
   "source": [
    "num = 1\n",
    "total = 0\n",
    "\n",
    "while num <=1000:\n",
    "    total+=num\n",
    "    num+=1\n",
    "print(total)"
   ]
  },
  {
   "cell_type": "markdown",
   "id": "ad1c272b",
   "metadata": {},
   "source": [
    " List Comprehension 을 이용하여 1 ~ 45 범위내의 숫자 6개 추출하기"
   ]
  },
  {
   "cell_type": "code",
   "execution_count": 6,
   "id": "67fca531",
   "metadata": {},
   "outputs": [
    {
     "name": "stdout",
     "output_type": "stream",
     "text": [
      "[34, 40, 9, 17, 9, 31]\n"
     ]
    }
   ],
   "source": [
    "import random\n",
    "a=[]\n",
    "while len(a)<6:\n",
    "    \n",
    "    a.append(random.randint(1,45))\n",
    "print(a)\n",
    "    "
   ]
  }
 ],
 "metadata": {
  "kernelspec": {
   "display_name": "Python 3 (ipykernel)",
   "language": "python",
   "name": "python3"
  },
  "language_info": {
   "codemirror_mode": {
    "name": "ipython",
    "version": 3
   },
   "file_extension": ".py",
   "mimetype": "text/x-python",
   "name": "python",
   "nbconvert_exporter": "python",
   "pygments_lexer": "ipython3",
   "version": "3.9.13"
  }
 },
 "nbformat": 4,
 "nbformat_minor": 5
}
