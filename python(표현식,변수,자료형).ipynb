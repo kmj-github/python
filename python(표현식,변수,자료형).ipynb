{
 "cells": [
  {
   "cell_type": "markdown",
   "id": "7c59cb55",
   "metadata": {},
   "source": [
    "23을 5로 나누었을 때의 몫과 나머지 구하기"
   ]
  },
  {
   "cell_type": "code",
   "execution_count": null,
   "id": "cf3e1185",
   "metadata": {},
   "outputs": [],
   "source": [
    "divmod(23,5)"
   ]
  },
  {
   "cell_type": "markdown",
   "id": "4807fda6",
   "metadata": {},
   "source": [
    "16진수 FF의 10진수 값 구하기"
   ]
  },
  {
   "cell_type": "code",
   "execution_count": null,
   "id": "3e6df2e9",
   "metadata": {},
   "outputs": [],
   "source": [
    "0xFF"
   ]
  },
  {
   "cell_type": "markdown",
   "id": "06da6c54",
   "metadata": {},
   "source": [
    " 8진수 33의 10진수 값 구하기"
   ]
  },
  {
   "cell_type": "code",
   "execution_count": null,
   "id": "38ff130c",
   "metadata": {},
   "outputs": [],
   "source": [
    "0o33"
   ]
  },
  {
   "cell_type": "markdown",
   "id": "f6dd7001",
   "metadata": {},
   "source": [
    "제시된 숫자의 각 자리 수 합 구하기"
   ]
  },
  {
   "cell_type": "code",
   "execution_count": null,
   "id": "f145847d",
   "metadata": {},
   "outputs": [],
   "source": [
    "num = 215179\n",
    "total=0\n",
    "num_list=str(num)\n",
    "for num in num_list:\n",
    "    total+=int(num)\n",
    "print(total)"
   ]
  },
  {
   "cell_type": "code",
   "execution_count": 3,
   "id": "fcb69c8b",
   "metadata": {},
   "outputs": [
    {
     "name": "stdout",
     "output_type": "stream",
     "text": [
      "25\n"
     ]
    }
   ],
   "source": [
    "num=215179\n",
    "total=0\n",
    "while num > 0:\n",
    "    n=num%10\n",
    "    total+=n\n",
    "    num=num//10\n",
    "print(total)\n"
   ]
  },
  {
   "cell_type": "markdown",
   "id": "73ab6d7c",
   "metadata": {},
   "source": [
    "백의 자리 이하 숫자 버리기 (456 → 400 111 → 100)"
   ]
  },
  {
   "cell_type": "code",
   "execution_count": 1,
   "id": "30044bba",
   "metadata": {},
   "outputs": [
    {
     "name": "stdout",
     "output_type": "stream",
     "text": [
      "900\n"
     ]
    }
   ],
   "source": [
    "num = 978\n",
    "result = 0\n",
    "\n",
    "if num >0:\n",
    "    result=num//100*100\n",
    "print(result)"
   ]
  },
  {
   "cell_type": "markdown",
   "id": "b68c4f41",
   "metadata": {},
   "source": [
    "\"Life\" is too short, You need 'Python' 출력하기"
   ]
  },
  {
   "cell_type": "code",
   "execution_count": 8,
   "id": "5359cd3f",
   "metadata": {},
   "outputs": [
    {
     "name": "stdout",
     "output_type": "stream",
     "text": [
      "\"Life\" is too short,You need 'python'\n"
     ]
    }
   ],
   "source": [
    "print('\"Life\" is too short,'+ \"You need 'python'\")"
   ]
  },
  {
   "cell_type": "markdown",
   "id": "8884935d",
   "metadata": {},
   "source": [
    "아래와 같은 문자열에서 \"short\"라는 문자열이 시작되는 위치(인덱스) 구하기"
   ]
  },
  {
   "cell_type": "code",
   "execution_count": 10,
   "id": "f0c91bbe",
   "metadata": {},
   "outputs": [
    {
     "data": {
      "text/plain": [
       "12"
      ]
     },
     "execution_count": 10,
     "metadata": {},
     "output_type": "execute_result"
    }
   ],
   "source": [
    "s = 'Life is too short, You need Python'\n",
    "s.index('short')"
   ]
  },
  {
   "cell_type": "markdown",
   "id": "d81aa79b",
   "metadata": {},
   "source": [
    "공백 문자를 기준으로 문자열을 리스트로 변환하기"
   ]
  },
  {
   "cell_type": "code",
   "execution_count": 12,
   "id": "07e248f1",
   "metadata": {},
   "outputs": [
    {
     "data": {
      "text/plain": [
       "['Life', 'is', 'too', 'short,', 'You', 'need', 'Python']"
      ]
     },
     "execution_count": 12,
     "metadata": {},
     "output_type": "execute_result"
    }
   ],
   "source": [
    "s = 'Life is too short, You need Python'\n",
    "s.split(' ')"
   ]
  },
  {
   "cell_type": "markdown",
   "id": "59e136d1",
   "metadata": {},
   "source": [
    "중첩 리스트 person에서 인덱싱을 사용하여 아래와 같이 출력하기[ggoreb]신림동/둔산동"
   ]
  },
  {
   "cell_type": "code",
   "execution_count": 13,
   "id": "f65a0704",
   "metadata": {},
   "outputs": [],
   "source": [
    "person = [\n",
    "'ggoreb',\n",
    "20,\n",
    "['서울', '관악구', '신림동'],\n",
    "['대전', '서구', '둔산동']\n",
    "]"
   ]
  },
  {
   "cell_type": "code",
   "execution_count": 25,
   "id": "1fcf2462",
   "metadata": {
    "scrolled": true
   },
   "outputs": [
    {
     "name": "stdout",
     "output_type": "stream",
     "text": [
      "[ggoreb]신림동/둔산동\n"
     ]
    }
   ],
   "source": [
    "print('[%s]%s/%s' % (person[0],person[2][-1],person[3][-1]))"
   ]
  },
  {
   "cell_type": "markdown",
   "id": "bc87bd39",
   "metadata": {},
   "source": [
    "리스트 요소 정렬하기 (오름차순, 내림차순)"
   ]
  },
  {
   "cell_type": "code",
   "execution_count": 29,
   "id": "9e12227b",
   "metadata": {},
   "outputs": [
    {
     "name": "stdout",
     "output_type": "stream",
     "text": [
      "['h', 'n', 'o', 'p', 't', 'y']\n",
      "['y', 't', 'p', 'o', 'n', 'h']\n"
     ]
    }
   ],
   "source": [
    "ch_list = ['p', 'y', 't', 'h', 'o', 'n']\n",
    "\n",
    "ch_list.sort()\n",
    "print(ch_list)\n",
    "\n",
    "ch_list.sort(reverse=True)\n",
    "print(ch_list)"
   ]
  },
  {
   "cell_type": "markdown",
   "id": "4a52990a",
   "metadata": {},
   "source": [
    "연습문제\n",
    "1. '부산'에 해당하는 value 출력\n",
    "2. '천안' key가 존재하는지 확인\n",
    "3. key 리스트 생성\n",
    "4. value 리스트 생성"
   ]
  },
  {
   "cell_type": "code",
   "execution_count": 32,
   "id": "9d8c3f66",
   "metadata": {
    "scrolled": true
   },
   "outputs": [
    {
     "name": "stdout",
     "output_type": "stream",
     "text": [
      "051\n",
      "False\n",
      "dict_keys(['서울', '대전', '부산', '광주', '제주'])\n",
      "dict_values(['02', '042', '051', '062', '064'])\n"
     ]
    }
   ],
   "source": [
    "number = {\n",
    "'서울': '02', '대전': '042', '부산': '051',\n",
    "'광주': '062', '제주': '064'\n",
    "}\n",
    "\n",
    "print(number['부산'])\n",
    "print('천안'in number)\n",
    "print(number.keys())\n",
    "print(number.values())"
   ]
  },
  {
   "cell_type": "markdown",
   "id": "de8deeb1",
   "metadata": {},
   "source": [
    "두 개의 집합에서 공통 요소만 출력하기 (교집합)"
   ]
  },
  {
   "cell_type": "code",
   "execution_count": 34,
   "id": "a2737bbb",
   "metadata": {},
   "outputs": [
    {
     "name": "stdout",
     "output_type": "stream",
     "text": [
      "{34, 12, 6}\n"
     ]
    }
   ],
   "source": [
    "lotto_num1 = {6, 12, 17, 21, 34, 37}\n",
    "lotto_num2 = {6, 12, 19, 24, 34, 41}\n",
    "\n",
    "lotto=set(lotto_num1&lotto_num2)\n",
    "print(lotto)\n"
   ]
  },
  {
   "cell_type": "markdown",
   "id": "155c4d32",
   "metadata": {},
   "source": [
    "Set을 활용하여 List 요소의 중복 데이터 제거하기"
   ]
  },
  {
   "cell_type": "code",
   "execution_count": 35,
   "id": "e4b731d2",
   "metadata": {},
   "outputs": [
    {
     "name": "stdout",
     "output_type": "stream",
     "text": [
      "{7, 9, 11, 15, 26}\n"
     ]
    }
   ],
   "source": [
    "num_list = [9, 7, 11, 26, 15, 9, 15, 26]\n",
    "print(set(num_list))"
   ]
  }
 ],
 "metadata": {
  "kernelspec": {
   "display_name": "Python 3 (ipykernel)",
   "language": "python",
   "name": "python3"
  },
  "language_info": {
   "codemirror_mode": {
    "name": "ipython",
    "version": 3
   },
   "file_extension": ".py",
   "mimetype": "text/x-python",
   "name": "python",
   "nbconvert_exporter": "python",
   "pygments_lexer": "ipython3",
   "version": "3.9.13"
  }
 },
 "nbformat": 4,
 "nbformat_minor": 5
}
